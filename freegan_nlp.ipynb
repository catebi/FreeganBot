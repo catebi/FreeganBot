{
 "cells": [
  {
   "cell_type": "code",
   "execution_count": 1,
   "outputs": [
    {
     "name": "stdout",
     "output_type": "stream",
     "text": [
      "Requirement already satisfied: pymorphy3 in /Users/aleksandra.ershova/anaconda3/envs/switchbacks/lib/python3.11/site-packages (1.2.1)\r\n",
      "Requirement already satisfied: spacy in /Users/aleksandra.ershova/anaconda3/envs/switchbacks/lib/python3.11/site-packages (3.7.2)\r\n",
      "Requirement already satisfied: pyspellchecker in /Users/aleksandra.ershova/anaconda3/envs/switchbacks/lib/python3.11/site-packages (0.7.2)\r\n",
      "Requirement already satisfied: dawg-python>=0.7.1 in /Users/aleksandra.ershova/anaconda3/envs/switchbacks/lib/python3.11/site-packages (from pymorphy3) (0.7.2)\r\n",
      "Requirement already satisfied: docopt-ng>=0.6 in /Users/aleksandra.ershova/anaconda3/envs/switchbacks/lib/python3.11/site-packages (from pymorphy3) (0.9.0)\r\n",
      "Requirement already satisfied: pymorphy3-dicts-ru in /Users/aleksandra.ershova/anaconda3/envs/switchbacks/lib/python3.11/site-packages (from pymorphy3) (2.4.417150.4580142)\r\n",
      "Requirement already satisfied: spacy-legacy<3.1.0,>=3.0.11 in /Users/aleksandra.ershova/anaconda3/envs/switchbacks/lib/python3.11/site-packages (from spacy) (3.0.12)\r\n",
      "Requirement already satisfied: spacy-loggers<2.0.0,>=1.0.0 in /Users/aleksandra.ershova/anaconda3/envs/switchbacks/lib/python3.11/site-packages (from spacy) (1.0.5)\r\n",
      "Requirement already satisfied: murmurhash<1.1.0,>=0.28.0 in /Users/aleksandra.ershova/anaconda3/envs/switchbacks/lib/python3.11/site-packages (from spacy) (1.0.10)\r\n",
      "Requirement already satisfied: cymem<2.1.0,>=2.0.2 in /Users/aleksandra.ershova/anaconda3/envs/switchbacks/lib/python3.11/site-packages (from spacy) (2.0.8)\r\n",
      "Requirement already satisfied: preshed<3.1.0,>=3.0.2 in /Users/aleksandra.ershova/anaconda3/envs/switchbacks/lib/python3.11/site-packages (from spacy) (3.0.9)\r\n",
      "Requirement already satisfied: thinc<8.3.0,>=8.1.8 in /Users/aleksandra.ershova/anaconda3/envs/switchbacks/lib/python3.11/site-packages (from spacy) (8.2.1)\r\n",
      "Requirement already satisfied: wasabi<1.2.0,>=0.9.1 in /Users/aleksandra.ershova/anaconda3/envs/switchbacks/lib/python3.11/site-packages (from spacy) (1.1.2)\r\n",
      "Requirement already satisfied: srsly<3.0.0,>=2.4.3 in /Users/aleksandra.ershova/anaconda3/envs/switchbacks/lib/python3.11/site-packages (from spacy) (2.4.8)\r\n",
      "Requirement already satisfied: catalogue<2.1.0,>=2.0.6 in /Users/aleksandra.ershova/anaconda3/envs/switchbacks/lib/python3.11/site-packages (from spacy) (2.0.10)\r\n",
      "Requirement already satisfied: weasel<0.4.0,>=0.1.0 in /Users/aleksandra.ershova/anaconda3/envs/switchbacks/lib/python3.11/site-packages (from spacy) (0.3.4)\r\n",
      "Requirement already satisfied: typer<0.10.0,>=0.3.0 in /Users/aleksandra.ershova/anaconda3/envs/switchbacks/lib/python3.11/site-packages (from spacy) (0.9.0)\r\n",
      "Requirement already satisfied: smart-open<7.0.0,>=5.2.1 in /Users/aleksandra.ershova/anaconda3/envs/switchbacks/lib/python3.11/site-packages (from spacy) (6.4.0)\r\n",
      "Requirement already satisfied: tqdm<5.0.0,>=4.38.0 in /Users/aleksandra.ershova/anaconda3/envs/switchbacks/lib/python3.11/site-packages (from spacy) (4.66.1)\r\n",
      "Requirement already satisfied: requests<3.0.0,>=2.13.0 in /Users/aleksandra.ershova/anaconda3/envs/switchbacks/lib/python3.11/site-packages (from spacy) (2.31.0)\r\n",
      "Requirement already satisfied: pydantic!=1.8,!=1.8.1,<3.0.0,>=1.7.4 in /Users/aleksandra.ershova/anaconda3/envs/switchbacks/lib/python3.11/site-packages (from spacy) (2.5.2)\r\n",
      "Requirement already satisfied: jinja2 in /Users/aleksandra.ershova/anaconda3/envs/switchbacks/lib/python3.11/site-packages (from spacy) (3.1.2)\r\n",
      "Requirement already satisfied: setuptools in /Users/aleksandra.ershova/anaconda3/envs/switchbacks/lib/python3.11/site-packages (from spacy) (68.0.0)\r\n",
      "Requirement already satisfied: packaging>=20.0 in /Users/aleksandra.ershova/anaconda3/envs/switchbacks/lib/python3.11/site-packages (from spacy) (23.1)\r\n",
      "Requirement already satisfied: langcodes<4.0.0,>=3.2.0 in /Users/aleksandra.ershova/anaconda3/envs/switchbacks/lib/python3.11/site-packages (from spacy) (3.3.0)\r\n",
      "Requirement already satisfied: numpy>=1.19.0 in /Users/aleksandra.ershova/anaconda3/envs/switchbacks/lib/python3.11/site-packages (from spacy) (1.25.2)\r\n",
      "Requirement already satisfied: annotated-types>=0.4.0 in /Users/aleksandra.ershova/anaconda3/envs/switchbacks/lib/python3.11/site-packages (from pydantic!=1.8,!=1.8.1,<3.0.0,>=1.7.4->spacy) (0.6.0)\r\n",
      "Requirement already satisfied: pydantic-core==2.14.5 in /Users/aleksandra.ershova/anaconda3/envs/switchbacks/lib/python3.11/site-packages (from pydantic!=1.8,!=1.8.1,<3.0.0,>=1.7.4->spacy) (2.14.5)\r\n",
      "Requirement already satisfied: typing-extensions>=4.6.1 in /Users/aleksandra.ershova/anaconda3/envs/switchbacks/lib/python3.11/site-packages (from pydantic!=1.8,!=1.8.1,<3.0.0,>=1.7.4->spacy) (4.8.0)\r\n",
      "Requirement already satisfied: charset-normalizer<4,>=2 in /Users/aleksandra.ershova/anaconda3/envs/switchbacks/lib/python3.11/site-packages (from requests<3.0.0,>=2.13.0->spacy) (2.0.4)\r\n",
      "Requirement already satisfied: idna<4,>=2.5 in /Users/aleksandra.ershova/anaconda3/envs/switchbacks/lib/python3.11/site-packages (from requests<3.0.0,>=2.13.0->spacy) (3.4)\r\n",
      "Requirement already satisfied: urllib3<3,>=1.21.1 in /Users/aleksandra.ershova/anaconda3/envs/switchbacks/lib/python3.11/site-packages (from requests<3.0.0,>=2.13.0->spacy) (1.26.18)\r\n",
      "Requirement already satisfied: certifi>=2017.4.17 in /Users/aleksandra.ershova/anaconda3/envs/switchbacks/lib/python3.11/site-packages (from requests<3.0.0,>=2.13.0->spacy) (2023.7.22)\r\n",
      "Requirement already satisfied: blis<0.8.0,>=0.7.8 in /Users/aleksandra.ershova/anaconda3/envs/switchbacks/lib/python3.11/site-packages (from thinc<8.3.0,>=8.1.8->spacy) (0.7.11)\r\n",
      "Requirement already satisfied: confection<1.0.0,>=0.0.1 in /Users/aleksandra.ershova/anaconda3/envs/switchbacks/lib/python3.11/site-packages (from thinc<8.3.0,>=8.1.8->spacy) (0.1.4)\r\n",
      "Requirement already satisfied: click<9.0.0,>=7.1.1 in /Users/aleksandra.ershova/anaconda3/envs/switchbacks/lib/python3.11/site-packages (from typer<0.10.0,>=0.3.0->spacy) (8.1.7)\r\n",
      "Requirement already satisfied: cloudpathlib<0.17.0,>=0.7.0 in /Users/aleksandra.ershova/anaconda3/envs/switchbacks/lib/python3.11/site-packages (from weasel<0.4.0,>=0.1.0->spacy) (0.16.0)\r\n",
      "Requirement already satisfied: MarkupSafe>=2.0 in /Users/aleksandra.ershova/anaconda3/envs/switchbacks/lib/python3.11/site-packages (from jinja2->spacy) (2.1.1)\r\n"
     ]
    }
   ],
   "source": [
    "!pip install pymorphy3 spacy pyspellchecker"
   ],
   "metadata": {
    "collapsed": false,
    "ExecuteTime": {
     "end_time": "2023-12-05T17:21:23.702507Z",
     "start_time": "2023-12-05T17:21:11.715867Z"
    }
   },
   "id": "132980db211a089b"
  },
  {
   "cell_type": "markdown",
   "source": [
    "# Лемматизация, нормализация, спеллчекер"
   ],
   "metadata": {
    "collapsed": false
   },
   "id": "dfc46e4a5e54188"
  },
  {
   "cell_type": "code",
   "execution_count": 1,
   "outputs": [],
   "source": [
    "from spacy.lang.ru import Russian\n",
    "from spellchecker import SpellChecker\n",
    "import string"
   ],
   "metadata": {
    "collapsed": false,
    "ExecuteTime": {
     "end_time": "2023-12-05T17:22:06.444814Z",
     "start_time": "2023-12-05T17:21:57.648052Z"
    }
   },
   "id": "8efaee281bc3bc88"
  },
  {
   "cell_type": "code",
   "execution_count": 2,
   "outputs": [],
   "source": [
    "# Load Russian language models\n",
    "nlp = Russian()\n",
    "spell = SpellChecker(language='ru')"
   ],
   "metadata": {
    "collapsed": false,
    "ExecuteTime": {
     "end_time": "2023-12-05T17:22:06.917057Z",
     "start_time": "2023-12-05T17:22:06.445397Z"
    }
   },
   "id": "1581781aee0ce95d"
  },
  {
   "cell_type": "code",
   "execution_count": 3,
   "outputs": [],
   "source": [
    "# Adding the lemmatizer component to the pipeline\n",
    "lemmatizer = nlp.add_pipe(\"lemmatizer\")"
   ],
   "metadata": {
    "collapsed": false,
    "ExecuteTime": {
     "end_time": "2023-12-05T17:22:07.498704Z",
     "start_time": "2023-12-05T17:22:06.917438Z"
    }
   },
   "id": "e867796ac6a78cf0"
  },
  {
   "cell_type": "code",
   "execution_count": 4,
   "outputs": [],
   "source": [
    "def process_text(text):\n",
    "    # Remove punctuation\n",
    "    text_no_punct = text.lower().translate(str.maketrans('', '', string.punctuation))\n",
    "    \n",
    "    # Spellcheck and correct the text\n",
    "    words = text_no_punct.split()\n",
    "    corrected_words = [spell.correction(word) for word in words if word is not None]\n",
    "    corrected_text = \" \".join(corrected_words)\n",
    "\n",
    "    # Process the text\n",
    "    doc = nlp(corrected_text)\n",
    "\n",
    "    # Lemmatize the text\n",
    "    lemmatized_text = ' '.join([token.lemma_ for token in doc if token is not None])\n",
    "\n",
    "    return lemmatized_text"
   ],
   "metadata": {
    "collapsed": false,
    "ExecuteTime": {
     "end_time": "2023-12-05T17:22:07.532897Z",
     "start_time": "2023-12-05T17:22:07.509218Z"
    }
   },
   "id": "4bff8f8547138a43"
  },
  {
   "cell_type": "code",
   "execution_count": 5,
   "outputs": [],
   "source": [
    "# Example text\n",
    "text = \"Это пиример текста, кооторый нужно абработать.\""
   ],
   "metadata": {
    "collapsed": false,
    "ExecuteTime": {
     "end_time": "2023-12-05T17:22:07.551604Z",
     "start_time": "2023-12-05T17:22:07.519674Z"
    }
   },
   "id": "c43036ae20f0d8a0"
  },
  {
   "cell_type": "code",
   "execution_count": 6,
   "outputs": [
    {
     "data": {
      "text/plain": "'это пример текст который нужно работать'"
     },
     "execution_count": 6,
     "metadata": {},
     "output_type": "execute_result"
    }
   ],
   "source": [
    "# Process the example text\n",
    "lemmatized_text = process_text(text)\n",
    "lemmatized_text"
   ],
   "metadata": {
    "collapsed": false,
    "ExecuteTime": {
     "end_time": "2023-12-05T17:22:08.610111Z",
     "start_time": "2023-12-05T17:22:07.599775Z"
    }
   },
   "id": "3326de4b4d69272d"
  }
 ],
 "metadata": {
  "kernelspec": {
   "display_name": "Python 3",
   "language": "python",
   "name": "python3"
  },
  "language_info": {
   "codemirror_mode": {
    "name": "ipython",
    "version": 2
   },
   "file_extension": ".py",
   "mimetype": "text/x-python",
   "name": "python",
   "nbconvert_exporter": "python",
   "pygments_lexer": "ipython2",
   "version": "2.7.6"
  }
 },
 "nbformat": 4,
 "nbformat_minor": 5
}
